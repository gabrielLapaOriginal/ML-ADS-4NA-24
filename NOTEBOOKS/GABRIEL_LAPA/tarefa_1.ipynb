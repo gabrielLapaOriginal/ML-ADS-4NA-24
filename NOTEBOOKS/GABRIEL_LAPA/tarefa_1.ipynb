
valores = [4, 6, 3, 4, 5, 8, 4, 2]

#Valor máximo#
valor_maximo = max(valores)
print(f'Valor Máximo: {valor_maximo}')
// "8"

#Valor mínimo#
valor_minimo = min(valores)
print(f'Valor Mínimo: {valor_minimo}')
//"2"

#Média aritmética#
import numpy as np
media_aritmetica = np.mean(valores)
print(f'Média Aritmética: {media_aritmetica}')
//"4.5"

#Mediana#
mediana = np.median(valores)
print(f'Mediana: {mediana}')
//"4.0"

#Desvio Padrão#
desvio_padrao = np.std(valores)
print(f'Desvio Padrão: {desvio_padrao}')
//"1.7078" aproximadamente
